{
 "cells": [
  {
   "cell_type": "code",
   "execution_count": null,
   "metadata": {},
   "outputs": [],
   "source": [
    "Dir_name = \"/home/srikanth/Desktop/Arihant/Box/\"\n",
    "\n",
    "# capture image\n",
    "import time\n",
    "import cv2\n",
    "import os\n",
    "\n",
    "cam = cv2.VideoCapture(0)\n",
    "width = 960\n",
    "height= 720\n",
    "cam.set(3,height)\n",
    "cam.set(4,width)\n",
    "cv2.namedWindow(\"frame\")\n",
    "\n",
    "img_counter = 0\n",
    "\n",
    "while True:\n",
    "    IsDirExist = os.path.exists(Dir_name)    # check if directory exists\n",
    "#     print(IsDirExist)\n",
    "        \n",
    "    if not IsDirExist: os.mkdir(Dir_name)    # if doesn't, create it\n",
    "    \n",
    "    ret, frame = cam.read()\n",
    "    if not ret:\n",
    "        print(\"failed to grab frame\")\n",
    "        break\n",
    "    cv2.imshow(\"frame\", frame)\n",
    "\n",
    "    k = cv2.waitKey(1)\n",
    "    if k%256 == 27:              # ESC pressed\n",
    "#         print(\"Escape hit, closing...\")\n",
    "        break\n",
    "    elif k%256 == 32:          # SPACE pressed\n",
    "#         time.sleep(3)\n",
    "#         img_name = \"image_{}.png\".format(img_counter)\n",
    "        img_name = f\"{Dir_name}/image_{img_counter}.png\"\n",
    "        cv2.imwrite(img_name, frame)\n",
    "    #     print(\"{} written!\".format(img_name))\n",
    "        img_counter += 1\n",
    "\n",
    "cam.release()\n",
    "cv2.destroyAllWindows()"
   ]
  }
 ],
 "metadata": {
  "kernelspec": {
   "display_name": "Python 3",
   "language": "python",
   "name": "python3"
  },
  "language_info": {
   "codemirror_mode": {
    "name": "ipython",
    "version": 3
   },
   "file_extension": ".py",
   "mimetype": "text/x-python",
   "name": "python",
   "nbconvert_exporter": "python",
   "pygments_lexer": "ipython3",
   "version": "3.8.5"
  }
 },
 "nbformat": 4,
 "nbformat_minor": 4
}
