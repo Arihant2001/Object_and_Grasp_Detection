{
 "cells": [
  {
   "cell_type": "code",
   "execution_count": 2,
   "metadata": {},
   "outputs": [],
   "source": [
    "# capture and save images in raspberryPi\n",
    "Dir_name = \"/home/srikanth/Desktop/Arihant/Box/\"\n",
    "\n",
    "from picamera.array import PiRGBArray\n",
    "from picamera import PiCamera\n",
    "import time\n",
    "import cv2\n",
    "import os\n",
    "\n",
    "cam = PiCamera()\n",
    "cam.resolution = (320,240)\n",
    "cam.framerate = 32\n",
    "rawCapture = PiRGBArray(cam,size=(320,240))\n",
    "img_counter = 0\n",
    "\n",
    "for frame in cam.capture_continuous(rawCapture,format = 'bgr',use_video_port = True):\n",
    "    IsDirExist = os.path.exists(Dir_name)    # check if directory exists\n",
    "#     print(IsDirExist)\n",
    "    if not IsDirExist: os.mkdir(Dir_name)    # if doesn't, create it\n",
    "\n",
    "    image = frame.array\n",
    "    cv2.imshow('frame',image)\n",
    "    k = cv2.waitKey(1)\n",
    "\n",
    "    if k%256 == 27:    # ESC pressed\n",
    "        break\n",
    "    elif k%256 == 32:  # SPACE pressed\n",
    "        #time.sleep(3)\n",
    "        img_name = f\"{Dir_name}/image_{img_counter}.png\"\n",
    "        cv2.imwrite(img_name, image)\n",
    "        img_counter += 1\n",
    "\n",
    "    rawCapture.truncate(0)\n",
    "\n",
    "cam.stop_preview()\n",
    "cv2.destroyAllWindows()"
   ]
  }
 ],
 "metadata": {
  "kernelspec": {
   "display_name": "Python 3",
   "language": "python",
   "name": "python3"
  },
  "language_info": {
   "codemirror_mode": {
    "name": "ipython",
    "version": 3
   },
   "file_extension": ".py",
   "mimetype": "text/x-python",
   "name": "python",
   "nbconvert_exporter": "python",
   "pygments_lexer": "ipython3",
   "version": "3.8.5"
  }
 },
 "nbformat": 4,
 "nbformat_minor": 4
}
